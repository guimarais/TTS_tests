{
 "cells": [
  {
   "cell_type": "code",
   "execution_count": 1,
   "id": "29cc9596-0f53-4b35-b30f-7e5eac54ea62",
   "metadata": {
    "tags": []
   },
   "outputs": [],
   "source": [
    "from gtts import gTTS\n",
    "import os\n",
    "from googletrans import Translator\n",
    "\n",
    "# Start translator\n",
    "translator = Translator()"
   ]
  },
  {
   "cell_type": "code",
   "execution_count": 2,
   "id": "0d61cb39-8a7c-48e1-a1fd-f2e1f259577b",
   "metadata": {
    "tags": []
   },
   "outputs": [],
   "source": [
    "text_dir = './text_files/'\n",
    "audio_dir = './audio_files/'"
   ]
  },
  {
   "cell_type": "code",
   "execution_count": 3,
   "id": "507656a3-4b8e-467a-a018-421cde9d64ad",
   "metadata": {
    "tags": []
   },
   "outputs": [],
   "source": [
    "f = open(text_dir + \"test1.txt\", \"r\")\n",
    "text = f.read()"
   ]
  },
  {
   "cell_type": "code",
   "execution_count": 4,
   "id": "20e9d05e-4918-4eb4-96fa-d886df81db93",
   "metadata": {
    "tags": []
   },
   "outputs": [],
   "source": [
    "# Better to convert everything to lower() so the speech generator doesn't think it is something to be spelled\n",
    "audio = gTTS(text=text.lower(), lang=\"en\", slow=False)\n",
    "\n",
    "# Input is in English, label output as en\n",
    "audio.save(audio_dir + \"example_en.mp3\")"
   ]
  },
  {
   "cell_type": "markdown",
   "id": "92da7f93-b9f7-4710-9ff4-0eafc3ae4ff9",
   "metadata": {},
   "source": [
    "#### Translate and generate"
   ]
  },
  {
   "cell_type": "code",
   "execution_count": 5,
   "id": "e8193b9e-44ac-4c6e-a0ba-4e5782dfbe90",
   "metadata": {
    "tags": []
   },
   "outputs": [
    {
     "data": {
      "text/plain": [
       "'LIBERATE NATURE...\\nHuman ingenuity has made us healthier, wealthier, and more connected. But it has done so at terrible cost: Planet Earth is suffering. The story of our progress has been a story of nature’s collapse.\\nBut what if it didn’t have to be this way?\\n'"
      ]
     },
     "execution_count": 5,
     "metadata": {},
     "output_type": "execute_result"
    }
   ],
   "source": [
    "text"
   ]
  },
  {
   "cell_type": "code",
   "execution_count": 6,
   "id": "3f749f0a-c5cd-441a-9bbd-4a7a12965ed9",
   "metadata": {
    "tags": []
   },
   "outputs": [],
   "source": [
    "text_fr = translator.translate(text, dest='fr')"
   ]
  },
  {
   "cell_type": "code",
   "execution_count": 7,
   "id": "59bf69f1-d58a-4868-9369-a16db4612f06",
   "metadata": {
    "tags": []
   },
   "outputs": [],
   "source": [
    "audio = gTTS(text=text_fr.text.lower(), lang=\"fr\", slow=False)\n",
    "audio.save(audio_dir + \"example_fr.mp3\")"
   ]
  },
  {
   "cell_type": "code",
   "execution_count": 8,
   "id": "058d808a-f803-40fa-95da-9b0953ef8201",
   "metadata": {
    "tags": []
   },
   "outputs": [],
   "source": [
    "text_nl = translator.translate(text, dest='nl')"
   ]
  },
  {
   "cell_type": "code",
   "execution_count": 9,
   "id": "d783bedf-ab83-4fd9-b47e-3d60b4440b98",
   "metadata": {
    "tags": []
   },
   "outputs": [],
   "source": [
    "audio = gTTS(text=text_nl.text.lower(), lang=\"nl\", slow=False)\n",
    "audio.save(audio_dir + \"example_nl.mp3\")"
   ]
  }
 ],
 "metadata": {
  "kernelspec": {
   "display_name": "Python 3 (ipykernel)",
   "language": "python",
   "name": "python3"
  },
  "language_info": {
   "codemirror_mode": {
    "name": "ipython",
    "version": 3
   },
   "file_extension": ".py",
   "mimetype": "text/x-python",
   "name": "python",
   "nbconvert_exporter": "python",
   "pygments_lexer": "ipython3",
   "version": "3.10.7"
  }
 },
 "nbformat": 4,
 "nbformat_minor": 5
}
